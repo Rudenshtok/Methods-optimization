{
 "cells": [
  {
   "cell_type": "code",
   "execution_count": 56,
   "metadata": {},
   "outputs": [],
   "source": [
    "import numpy as np\n",
    "import torch\n",
    "from torch.autograd.functional import hessian\n",
    "from torch.nn.functional import sigmoid\n",
    "\n",
    "n = 10\n",
    "\n",
    "\n",
    "def autograd_df(f, x):\n",
    "    y = f(x)\n",
    "    y.backward()\n",
    "    return x.grad\n",
    "\n",
    "def autograd_ddf(f, x):\n",
    "    return hessian(f, x, strict=True)"
   ]
  },
  {
   "cell_type": "markdown",
   "metadata": {},
   "source": [
    "## a.\n",
    "\n",
    "$$f(x) = \\dfrac{1}{2}x^TAx + b^Tx + c $$"
   ]
  },
  {
   "cell_type": "code",
   "execution_count": 78,
   "metadata": {},
   "outputs": [
    {
     "name": "stdout",
     "output_type": "stream",
     "text": [
      "Analytical and autograd implementations of the gradients are close: True\n",
      "Analytical and autograd implementations of the hessians are close: True\n"
     ]
    }
   ],
   "source": [
    "A = torch.rand((n,n))\n",
    "b = torch.rand(n)\n",
    "c = torch.rand(1)\n",
    "\n",
    "\n",
    "def f(x):\n",
    "    return 0.5 * x.t() @ A @ x + b.t() @ x + c\n",
    "\n",
    "def analytical_df(x):\n",
    "    return 0.5 * (A + A.t()) @ x + b\n",
    "\n",
    "def analytical_ddf(x):\n",
    "    return 0.5 * (A + A.t())\n",
    "\n",
    "\n",
    "\n",
    "x_test = torch.rand(n, requires_grad=True)\n",
    "\n",
    "diff = np.allclose(analytical_df(x_test.detach()), autograd_df(f, x_test).detach().numpy())\n",
    "print(f'Analytical and autograd implementations of the gradients are close: {diff}')\n",
    "diff = np.allclose(analytical_ddf(x_test.detach()), autograd_ddf(f, x_test).detach())\n",
    "print(f'Analytical and autograd implementations of the hessians are close: {diff}')"
   ]
  },
  {
   "cell_type": "markdown",
   "metadata": {},
   "source": [
    "## b.\n",
    "\n",
    "$$f(x) = \\ln \\left( 1 + \\exp\\langle a,x\\rangle\\right)$$ "
   ]
  },
  {
   "cell_type": "code",
   "execution_count": 147,
   "metadata": {},
   "outputs": [
    {
     "name": "stdout",
     "output_type": "stream",
     "text": [
      "Analytical and autograd implementations of the gradients are close: True\n",
      "Analytical and autograd implementations of the hessians are close: True\n"
     ]
    }
   ],
   "source": [
    "a = torch.rand(n)\n",
    "\n",
    "def f(x):\n",
    "    return torch.log(1 + torch.exp(a.dot(x)))\n",
    "\n",
    "def analytical_df(x):\n",
    "    return sigmoid(a.dot(x)) * a\n",
    "\n",
    "def analytical_ddf(x):\n",
    "    return sigmoid(a.dot(x)) * (1 - sigmoid(a.dot(x))) * (a.unsqueeze(1) @ a.unsqueeze(1).t())\n",
    "\n",
    "\n",
    "\n",
    "x_test = torch.rand(n, requires_grad=True)\n",
    "\n",
    "diff = np.allclose(analytical_df(x_test.detach()), autograd_df(f, x_test).detach().numpy())\n",
    "print(f'Analytical and autograd implementations of the gradients are close: {diff}')\n",
    "diff = np.allclose(analytical_ddf(x_test.detach()), autograd_ddf(f, x_test).detach())\n",
    "print(f'Analytical and autograd implementations of the hessians are close: {diff}')"
   ]
  },
  {
   "cell_type": "markdown",
   "metadata": {},
   "source": [
    "## c.\n",
    "\n",
    "$$f(x) = \\dfrac{1}{2} \\|Ax - b\\|^2_2$$"
   ]
  },
  {
   "cell_type": "code",
   "execution_count": 175,
   "metadata": {},
   "outputs": [
    {
     "name": "stdout",
     "output_type": "stream",
     "text": [
      "Analytical and autograd implementations of the gradients are close: True\n",
      "Analytical and autograd implementations of the hessians are close: True\n"
     ]
    }
   ],
   "source": [
    "A = torch.rand((n,n))\n",
    "b = torch.rand(n)\n",
    "\n",
    "def f(x):\n",
    "    return 0.5 * torch.norm(A @ x - b, 2)**2\n",
    "\n",
    "def analytical_df(x):\n",
    "    return A.t() @ (A @ x - b)\n",
    "\n",
    "def analytical_ddf(x):\n",
    "    return A.t() @ A\n",
    "\n",
    "\n",
    "\n",
    "x_test = torch.rand(n, requires_grad=True)\n",
    "\n",
    "diff = np.allclose(analytical_df(x_test.detach()), autograd_df(f, x_test).detach().numpy())\n",
    "print(f'Analytical and autograd implementations of the gradients are close: {diff}')\n",
    "diff = np.allclose(analytical_ddf(x_test.detach()), autograd_ddf(f, x_test).detach())\n",
    "print(f'Analytical and autograd implementations of the hessians are close: {diff}')"
   ]
  },
  {
   "cell_type": "code",
   "execution_count": null,
   "metadata": {},
   "outputs": [],
   "source": []
  }
 ],
 "metadata": {
  "kernelspec": {
   "display_name": "Python 3",
   "language": "python",
   "name": "python3"
  },
  "language_info": {
   "codemirror_mode": {
    "name": "ipython",
    "version": 3
   },
   "file_extension": ".py",
   "mimetype": "text/x-python",
   "name": "python",
   "nbconvert_exporter": "python",
   "pygments_lexer": "ipython3",
   "version": "3.8.10"
  }
 },
 "nbformat": 4,
 "nbformat_minor": 4
}
